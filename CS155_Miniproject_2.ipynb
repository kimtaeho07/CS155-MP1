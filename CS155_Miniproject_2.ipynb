{
  "nbformat": 4,
  "nbformat_minor": 0,
  "metadata": {
    "colab": {
      "name": "CS155 Miniproject 2.ipynb",
      "provenance": [],
      "collapsed_sections": []
    },
    "kernelspec": {
      "name": "python3",
      "display_name": "Python 3"
    }
  },
  "cells": [
    {
      "cell_type": "markdown",
      "metadata": {
        "id": "pvgAfzoF53LA"
      },
      "source": [
        "#Miniproject 2: Data Visualization\r\n",
        "##Project Team: MCE and Friends\r\n",
        "\r\n",
        "Let's begin by loading our data:"
      ]
    },
    {
      "cell_type": "code",
      "metadata": {
        "id": "TWlQz-4o6C30"
      },
      "source": [
        "import numpy as np\r\n",
        "import pandas as pd\r\n",
        "import matplotlib.pyplot as plt\r\n",
        "import seaborn as sb\r\n",
        "\r\n",
        " \r\n",
        "data = np.loadtxt('https://raw.githubusercontent.com/lakigigar/Caltech-CS155-2021/main/projects/project2/data/data.txt').astype(int)\r\n",
        "movies = pd.read_csv('https://raw.githubusercontent.com/lakigigar/Caltech-CS155-2021/main/projects/project2/data/movies.txt', sep = '\\t', lineterminator='\\r', encoding='latin-1', header=None, index_col=0)\r\n",
        "Y_train = np.loadtxt('https://raw.githubusercontent.com/lakigigar/Caltech-CS155-2021/main/projects/project2/data/train.txt').astype(int)\r\n",
        "Y_test = np.loadtxt('https://raw.githubusercontent.com/lakigigar/Caltech-CS155-2021/main/projects/project2/data/test.txt').astype(int)\r\n",
        "\r\n",
        "movies.index.name=\"MovieID\"\r\n",
        "movies.columns = [\"MovieTitle\", \"Unknown\", \"Action\", \"Adventure\",\r\n",
        "                  \"Animation\", \"Children’s\", \"Comedy\", \"Crime\", \"Documentary\",\r\n",
        "                  \"Drama\", \"Fantasy\", \"Film-Noir\", \"Horror\", \"Musical\",\r\n",
        "                  \"Mystery\", \"Romance\", \"Sci-Fi\", \"Thriller\", \"War\", \"Western\"]\r\n",
        "\r\n",
        "nusers = max(data[:,0])\r\n",
        "nmovies = max(data[:,1])\r\n",
        "\r\n",
        "avgrating = np.zeros((nmovies,2))\r\n",
        "numrating = np.zeros((nmovies,2))\r\n",
        "for i in range(nmovies):\r\n",
        "  id = movies.index.tolist()[i]\r\n",
        "  moviedata = data[data[:,1]==id,2]\r\n",
        "  avgrating[i] = np.array([id,np.mean(moviedata)])\r\n",
        "  numrating[i] = np.array([id,len(moviedata)])\r\n",
        "\r\n",
        "movies[\"AverageRating\"] = avgrating[:,1]\r\n",
        "movies[\"NumRatings\"] = numrating[:,1]"
      ],
      "execution_count": null,
      "outputs": []
    },
    {
      "cell_type": "markdown",
      "metadata": {
        "id": "ks2zX-7uACUo"
      },
      "source": [
        "##Basic Visualizations\r\n",
        "###1. All Ratings in the MovieLens Dataset:\r\n",
        "We can bin the rating values of the rating data to see how often each type of rating was given. This movie set is simplified where all ratings provided are integers, so we can use a barplot for these values:"
      ]
    },
    {
      "cell_type": "code",
      "metadata": {
        "colab": {
          "base_uri": "https://localhost:8080/",
          "height": 295
        },
        "id": "rXjPp3ajAgFe",
        "outputId": "3c187a08-3c21-4d1d-d4d3-7b276c1d3415"
      },
      "source": [
        "y = np.bincount(data[:,2])\r\n",
        "rat = np.arange(5)+1\r\n",
        "fig = sb.barplot(x = rat,y = y[rat])\r\n",
        "plt.xlabel(\"Rating\")\r\n",
        "plt.ylabel(\"Frequency\")\r\n",
        "plt.title(\"Histogram of all Movie Ratings\")\r\n",
        "plt.show(fig)"
      ],
      "execution_count": null,
      "outputs": [
        {
          "output_type": "display_data",
          "data": {
            "image/png": "[encoded data removed]",
            "text/plain": [
              "<Figure size 432x288 with 1 Axes>"
            ]
          },
          "metadata": {
            "tags": [],
            "needs_background": "light"
          }
        }
      ]
    },
    {
      "cell_type": "markdown",
      "metadata": {
        "id": "4dDD0c3aEK7N"
      },
      "source": [
        "And so we can see that there were more high-ratings given out than low-ratings, and that 4 stars was the most popular rating given.\r\n",
        "\r\n",
        "###2. All Ratings from the 10 Most Popular Movies:\r\n",
        "\r\n",
        "We can make the same plot for the 10 most popular movies, which we can parse using the calculated numrating vector:\r\n"
      ]
    },
    {
      "cell_type": "code",
      "metadata": {
        "colab": {
          "base_uri": "https://localhost:8080/",
          "height": 716
        },
        "id": "YGAxqdOZEtTn",
        "outputId": "6728e60d-850b-4e6f-f26f-2240611874fe"
      },
      "source": [
        "top10m = movies.sort_values(by = \"NumRatings\",ascending=False).iloc[0:10].index.tolist()\r\n",
        "print(\"Top 10 Movies by Number of Ratings:\")\r\n",
        "display(movies.sort_values(by = \"NumRatings\", ascending = False)[[\"MovieTitle\",\"NumRatings\", \"AverageRating\"]][0:10])\r\n",
        "print(\"\\n\")\r\n",
        "y = np.bincount(data[np.isin(data[:,1],top10m),2])\r\n",
        "fig = sb.barplot(x = rat,y = y[rat])\r\n",
        "plt.xlabel(\"Rating\")\r\n",
        "plt.ylabel(\"Frequency\")\r\n",
        "plt.title(\"Histogram of Top-10 Movie Ratings\")\r\n",
        "plt.show(fig)"
      ],
      "execution_count": null,
      "outputs": [
        {
          "output_type": "stream",
          "text": [
            "Top 10 Movies by Number of Ratings:\n"
          ],
          "name": "stdout"
        },
        {
          "output_type": "display_data",
          "data": {
            "text/html": [
              "<div>\n",
              "<style scoped>\n",
              "    .dataframe tbody tr th:only-of-type {\n",
              "        vertical-align: middle;\n",
              "    }\n",
              "\n",
              "    .dataframe tbody tr th {\n",
              "        vertical-align: top;\n",
              "    }\n",
              "\n",
              "    .dataframe thead th {\n",
              "        text-align: right;\n",
              "    }\n",
              "</style>\n",
              "<table border=\"1\" class=\"dataframe\">\n",
              "  <thead>\n",
              "    <tr style=\"text-align: right;\">\n",
              "      <th></th>\n",
              "      <th>MovieTitle</th>\n",
              "      <th>NumRatings</th>\n",
              "      <th>AverageRating</th>\n",
              "    </tr>\n",
              "    <tr>\n",
              "      <th>MovieID</th>\n",
              "      <th></th>\n",
              "      <th></th>\n",
              "      <th></th>\n",
              "    </tr>\n",
              "  </thead>\n",
              "  <tbody>\n",
              "    <tr>\n",
              "      <th>50</th>\n",
              "      <td>Star Wars (1977)</td>\n",
              "      <td>583.0</td>\n",
              "      <td>4.358491</td>\n",
              "    </tr>\n",
              "    <tr>\n",
              "      <th>258</th>\n",
              "      <td>Contact (1997)</td>\n",
              "      <td>509.0</td>\n",
              "      <td>3.803536</td>\n",
              "    </tr>\n",
              "    <tr>\n",
              "      <th>100</th>\n",
              "      <td>Fargo (1996)</td>\n",
              "      <td>508.0</td>\n",
              "      <td>4.155512</td>\n",
              "    </tr>\n",
              "    <tr>\n",
              "      <th>181</th>\n",
              "      <td>Return of the Jedi (1983)</td>\n",
              "      <td>507.0</td>\n",
              "      <td>4.007890</td>\n",
              "    </tr>\n",
              "    <tr>\n",
              "      <th>294</th>\n",
              "      <td>Liar Liar (1997)</td>\n",
              "      <td>485.0</td>\n",
              "      <td>3.156701</td>\n",
              "    </tr>\n",
              "    <tr>\n",
              "      <th>286</th>\n",
              "      <td>English Patient, The (1996)</td>\n",
              "      <td>481.0</td>\n",
              "      <td>3.656965</td>\n",
              "    </tr>\n",
              "    <tr>\n",
              "      <th>288</th>\n",
              "      <td>Scream (1996)</td>\n",
              "      <td>478.0</td>\n",
              "      <td>3.441423</td>\n",
              "    </tr>\n",
              "    <tr>\n",
              "      <th>1</th>\n",
              "      <td>Toy Story (1995)</td>\n",
              "      <td>452.0</td>\n",
              "      <td>3.878319</td>\n",
              "    </tr>\n",
              "    <tr>\n",
              "      <th>300</th>\n",
              "      <td>Air Force One (1997)</td>\n",
              "      <td>431.0</td>\n",
              "      <td>3.631090</td>\n",
              "    </tr>\n",
              "    <tr>\n",
              "      <th>121</th>\n",
              "      <td>Independence Day (ID4) (1996)</td>\n",
              "      <td>429.0</td>\n",
              "      <td>3.438228</td>\n",
              "    </tr>\n",
              "  </tbody>\n",
              "</table>\n",
              "</div>"
            ],
            "text/plain": [
              "                            MovieTitle  NumRatings  AverageRating\n",
              "MovieID                                                          \n",
              "50                    Star Wars (1977)       583.0       4.358491\n",
              "258                     Contact (1997)       509.0       3.803536\n",
              "100                       Fargo (1996)       508.0       4.155512\n",
              "181          Return of the Jedi (1983)       507.0       4.007890\n",
              "294                   Liar Liar (1997)       485.0       3.156701\n",
              "286        English Patient, The (1996)       481.0       3.656965\n",
              "288                      Scream (1996)       478.0       3.441423\n",
              "1                     Toy Story (1995)       452.0       3.878319\n",
              "300               Air Force One (1997)       431.0       3.631090\n",
              "121      Independence Day (ID4) (1996)       429.0       3.438228"
            ]
          },
          "metadata": {
            "tags": []
          }
        },
        {
          "output_type": "stream",
          "text": [
            "\n",
            "\n"
          ],
          "name": "stdout"
        },
        {
          "output_type": "display_data",
          "data": {
            "image/png": "[encoded data removed]",
            "text/plain": [
              "<Figure size 432x288 with 1 Axes>"
            ]
          },
          "metadata": {
            "tags": [],
            "needs_background": "light"
          }
        }
      ]
    },
    {
      "cell_type": "markdown",
      "metadata": {
        "id": "1ZNG9bIYIESJ"
      },
      "source": [
        "Unsurprisingly, we can see many familiar titles in the top 10. And that the ratings are on the higher end of the spectrum compared to the distribution of all ratings.\r\n",
        "\r\n",
        "###3. All Ratings of the Ten Best Movies:\r\n",
        "We can take the exact same approach here to bin the ratings for the movies with the highest average rating:"
      ]
    },
    {
      "cell_type": "code",
      "metadata": {
        "colab": {
          "base_uri": "https://localhost:8080/",
          "height": 716
        },
        "id": "nxOlYEYnIVmo",
        "outputId": "8ba04253-b9b0-4c94-9745-6df53c4794a3"
      },
      "source": [
        "top10r = movies.sort_values(by = \"AverageRating\",ascending=False).iloc[0:10].index.tolist()\r\n",
        "print(\"Top 10 Movies By Average Rating:\")\r\n",
        "display(movies.sort_values(by = \"AverageRating\", ascending = False)[[\"MovieTitle\",\"AverageRating\",\"NumRatings\"]][0:10])\r\n",
        "print(\"\\n\")\r\n",
        "y = np.bincount(data[np.isin(data[:,1],top10r),2])\r\n",
        "fig = sb.barplot(x = rat,y = y[rat])\r\n",
        "plt.xlabel(\"Rating\")\r\n",
        "plt.ylabel(\"Frequency\")\r\n",
        "plt.title(\"Histogram of Top-10 Movie Ratings\")\r\n",
        "plt.show(fig)"
      ],
      "execution_count": null,
      "outputs": [
        {
          "output_type": "stream",
          "text": [
            "Top 10 Movies By Average Rating:\n"
          ],
          "name": "stdout"
        },
        {
          "output_type": "display_data",
          "data": {
            "text/html": [
              "<div>\n",
              "<style scoped>\n",
              "    .dataframe tbody tr th:only-of-type {\n",
              "        vertical-align: middle;\n",
              "    }\n",
              "\n",
              "    .dataframe tbody tr th {\n",
              "        vertical-align: top;\n",
              "    }\n",
              "\n",
              "    .dataframe thead th {\n",
              "        text-align: right;\n",
              "    }\n",
              "</style>\n",
              "<table border=\"1\" class=\"dataframe\">\n",
              "  <thead>\n",
              "    <tr style=\"text-align: right;\">\n",
              "      <th></th>\n",
              "      <th>MovieTitle</th>\n",
              "      <th>AverageRating</th>\n",
              "      <th>NumRatings</th>\n",
              "    </tr>\n",
              "    <tr>\n",
              "      <th>MovieID</th>\n",
              "      <th></th>\n",
              "      <th></th>\n",
              "      <th></th>\n",
              "    </tr>\n",
              "  </thead>\n",
              "  <tbody>\n",
              "    <tr>\n",
              "      <th>814</th>\n",
              "      <td>Great Day in Harlem, A (1994)</td>\n",
              "      <td>5.0</td>\n",
              "      <td>1.0</td>\n",
              "    </tr>\n",
              "    <tr>\n",
              "      <th>1599</th>\n",
              "      <td>Someone Else's America (1995)</td>\n",
              "      <td>5.0</td>\n",
              "      <td>1.0</td>\n",
              "    </tr>\n",
              "    <tr>\n",
              "      <th>1201</th>\n",
              "      <td>Marlene Dietrich: Shadow and Light (1996)</td>\n",
              "      <td>5.0</td>\n",
              "      <td>1.0</td>\n",
              "    </tr>\n",
              "    <tr>\n",
              "      <th>1122</th>\n",
              "      <td>They Made Me a Criminal (1939)</td>\n",
              "      <td>5.0</td>\n",
              "      <td>1.0</td>\n",
              "    </tr>\n",
              "    <tr>\n",
              "      <th>1653</th>\n",
              "      <td>Entertaining Angels: The Dorothy Day Story (1996)</td>\n",
              "      <td>5.0</td>\n",
              "      <td>1.0</td>\n",
              "    </tr>\n",
              "    <tr>\n",
              "      <th>1293</th>\n",
              "      <td>Star Kid (1997)</td>\n",
              "      <td>5.0</td>\n",
              "      <td>3.0</td>\n",
              "    </tr>\n",
              "    <tr>\n",
              "      <th>1500</th>\n",
              "      <td>Santa with Muscles (1996)</td>\n",
              "      <td>5.0</td>\n",
              "      <td>2.0</td>\n",
              "    </tr>\n",
              "    <tr>\n",
              "      <th>1189</th>\n",
              "      <td>Prefontaine (1997)</td>\n",
              "      <td>5.0</td>\n",
              "      <td>3.0</td>\n",
              "    </tr>\n",
              "    <tr>\n",
              "      <th>1536</th>\n",
              "      <td>Aiqing wansui (1994)</td>\n",
              "      <td>5.0</td>\n",
              "      <td>1.0</td>\n",
              "    </tr>\n",
              "    <tr>\n",
              "      <th>1467</th>\n",
              "      <td>Saint of Fort Washington, The (1993)</td>\n",
              "      <td>5.0</td>\n",
              "      <td>2.0</td>\n",
              "    </tr>\n",
              "  </tbody>\n",
              "</table>\n",
              "</div>"
            ],
            "text/plain": [
              "                                                MovieTitle  ...  NumRatings\n",
              "MovieID                                                     ...            \n",
              "814                          Great Day in Harlem, A (1994)  ...         1.0\n",
              "1599                         Someone Else's America (1995)  ...         1.0\n",
              "1201            Marlene Dietrich: Shadow and Light (1996)   ...         1.0\n",
              "1122                        They Made Me a Criminal (1939)  ...         1.0\n",
              "1653     Entertaining Angels: The Dorothy Day Story (1996)  ...         1.0\n",
              "1293                                       Star Kid (1997)  ...         3.0\n",
              "1500                             Santa with Muscles (1996)  ...         2.0\n",
              "1189                                    Prefontaine (1997)  ...         3.0\n",
              "1536                                  Aiqing wansui (1994)  ...         1.0\n",
              "1467                  Saint of Fort Washington, The (1993)  ...         2.0\n",
              "\n",
              "[10 rows x 3 columns]"
            ]
          },
          "metadata": {
            "tags": []
          }
        },
        {
          "output_type": "stream",
          "text": [
            "\n",
            "\n"
          ],
          "name": "stdout"
        },
        {
          "output_type": "display_data",
          "data": {
            "image/png": "[encoded data removed]",
            "text/plain": [
              "<Figure size 432x288 with 1 Axes>"
            ]
          },
          "metadata": {
            "tags": [],
            "needs_background": "light"
          }
        }
      ]
    },
    {
      "cell_type": "markdown",
      "metadata": {
        "id": "XpOPibWwI4fX"
      },
      "source": [
        "Unsurprisingly, we see that all of these movies have an average rating of 5.0, meaing all raters who rated this movie gave it a 5.0, However, all of these movies only have one or two raters, which will favorably bias high ratings in calculating the average.\r\n",
        "\r\n",
        "###4. All Ratings of three movie genres (Westrn, Drama, Sci-fi):\r\n",
        "The above code can easily be adapted for specific movie genres to bin all the ratings for a given movie type, which we can display below:"
      ]
    },
    {
      "cell_type": "code",
      "metadata": {
        "colab": {
          "base_uri": "https://localhost:8080/",
          "height": 955
        },
        "id": "lxuk8PH0Kf0r",
        "outputId": "24a162f5-5b14-4a57-ba77-06aec59f1c08"
      },
      "source": [
        "def plotgenreratings(genre):\r\n",
        "  genreidx = movies[movies[genre]==1].index.tolist()\r\n",
        "  genreratings = data[np.isin(data[:,1],genreidx),2]\r\n",
        "  y = np.bincount(genreratings)\r\n",
        "  rat = np.arange(5)+1\r\n",
        "  fig = sb.barplot(x = rat,y = y[rat])\r\n",
        "  plt.xlabel(\"Rating\")\r\n",
        "  plt.ylabel(\"Frequency\")\r\n",
        "  plt.title(\"Histogram of All \"+genre+\" Movie Ratings\")\r\n",
        "  plt.show(fig)\r\n",
        "  print(\"\\n\")\r\n",
        "\r\n",
        "plotgenreratings(\"Western\")\r\n",
        "plotgenreratings(\"Drama\")\r\n",
        "plotgenreratings(\"Sci-Fi\")"
      ],
      "execution_count": null,
      "outputs": [
        {
          "output_type": "display_data",
          "data": {
            "image/png": "[encoded data removed]",
            "text/plain": [
              "<Figure size 432x288 with 1 Axes>"
            ]
          },
          "metadata": {
            "tags": [],
            "needs_background": "light"
          }
        },
        {
          "output_type": "stream",
          "text": [
            "\n",
            "\n"
          ],
          "name": "stdout"
        },
        {
          "output_type": "display_data",
          "data": {
            "image/png": "[encoded data removed]",
            "text/plain": [
              "<Figure size 432x288 with 1 Axes>"
            ]
          },
          "metadata": {
            "tags": [],
            "needs_background": "light"
          }
        },
        {
          "output_type": "stream",
          "text": [
            "\n",
            "\n"
          ],
          "name": "stdout"
        },
        {
          "output_type": "display_data",
          "data": {
            "image/png": "[encoded data removed]",
            "text/plain": [
              "<Figure size 432x288 with 1 Axes>"
            ]
          },
          "metadata": {
            "tags": [],
            "needs_background": "light"
          }
        },
        {
          "output_type": "stream",
          "text": [
            "\n",
            "\n"
          ],
          "name": "stdout"
        }
      ]
    },
    {
      "cell_type": "markdown",
      "metadata": {
        "id": "0LFd-il_MTei"
      },
      "source": [
        "It seems that fewer people have rated Westerns and Sci-Fi movies than Drama movies, and that Westerns have comparatively fewer 5-star ratings compared to the other viewed movie genres.\r\n",
        "\r\n",
        "Across all of these histograms, we interestingly find that the distribution of ratings is quite similar to the overall distribution of all ratings.\r\n",
        "\r\n",
        "##Matrix Factorization\r\n",
        "\r\n",
        "With the preliminary data investiation out of the way, we can begin to look at more sophisticated means of delving into the MoveLens data, including factorization, using the methods as outined in the project document.\r\n",
        "\r\n",
        "###1. Homework 5 Code:\r\n",
        "We can use stochastic gradient descent with no bias term to optimize the mean squared regularization error of the factorization $Y = U^TV$:"
      ]
    },
    {
      "cell_type": "code",
      "metadata": {
        "id": "HnayXptEOVP2"
      },
      "source": [
        "def grad_U(Ui, Yij, Vj, reg, eta):\r\n",
        "    \"\"\"\r\n",
        "    Takes as input Ui (the ith row of U), a training point Yij, the column\r\n",
        "    vector Vj (jth column of V^T), reg (the regularization parameter lambda),\r\n",
        "    and eta (the learning rate).\r\n",
        "\r\n",
        "    Returns the gradient of the regularized loss function with\r\n",
        "    respect to Ui multiplied by eta.\r\n",
        "    \"\"\"\r\n",
        "    return eta*(reg*Ui - (Yij-np.dot(Ui,Vj))*Vj)\r\n",
        "    pass   \r\n",
        "\r\n",
        "def grad_V(Vj, Yij, Ui, reg, eta):\r\n",
        "    \"\"\"\r\n",
        "    Takes as input the column vector Vj (jth column of V^T), a training point Yij,\r\n",
        "    Ui (the ith row of U), reg (the regularization parameter lambda),\r\n",
        "    and eta (the learning rate).\r\n",
        "\r\n",
        "    Returns the gradient of the regularized loss function with\r\n",
        "    respect to Vj multiplied by eta.\r\n",
        "    \"\"\"\r\n",
        "    return eta*(reg*Vj - (Yij-np.dot(Ui,Vj))*Ui)\r\n",
        "    pass\r\n",
        "\r\n",
        "def get_err(U, V, Y, reg=0.0):\r\n",
        "    \"\"\"\r\n",
        "    Takes as input a matrix Y of triples (i, j, Y_ij) where i is the index of a user,\r\n",
        "    j is the index of a movie, and Y_ij is user i's rating of movie j and\r\n",
        "    user/movie matrices U and V.\r\n",
        "\r\n",
        "    Returns the mean regularized squared-error of predictions made by\r\n",
        "    estimating Y_{ij} as the dot product of the ith row of U and the jth column of V^T.\r\n",
        "    \"\"\"\r\n",
        "    err = 0\r\n",
        "    for i in range(len(Y)):\r\n",
        "      idx = Y[i,0]-1\r\n",
        "      jdx = Y[i,1]-1\r\n",
        "      err = err + 0.5*np.power((Y[i,2]-np.dot(U[idx,:], V[jdx,:])),2)\r\n",
        "    err = err + reg/2*(np.sum(U*U)+np.sum(V*V))\r\n",
        "    err = err/len(Y)\r\n",
        "\r\n",
        "    return err\r\n",
        "    pass\r\n",
        "\r\n",
        "\r\n",
        "def train_model(M, N, K, eta, reg, Y, eps=0.0001, max_epochs=300):\r\n",
        "    \"\"\"\r\n",
        "    Given a training data matrix Y containing rows (i, j, Y_ij)\r\n",
        "    where Y_ij is user i's rating on movie j, learns an\r\n",
        "    M x K matrix U and N x K matrix V such that rating Y_ij is approximated\r\n",
        "    by (UV^T)_ij.\r\n",
        "\r\n",
        "    Uses a learning rate of <eta> and regularization of <reg>. Stops after\r\n",
        "    <max_epochs> epochs, or once the magnitude of the decrease in regularized\r\n",
        "    MSE between epochs is smaller than a fraction <eps> of the decrease in\r\n",
        "    MSE after the first epoch.\r\n",
        "\r\n",
        "    Returns a tuple (U, V, err) consisting of U, V, and the unregularized MSE\r\n",
        "    of the model.\r\n",
        "    \"\"\"\r\n",
        "    U = np.random.uniform(-0.5, 0.5, (M,K))\r\n",
        "    V = np.random.uniform(-0.5, 0.5, (N,K))\r\n",
        "    errs = np.zeros(max_epochs+1)\r\n",
        "    errs[0] = get_err(U,V,Y,reg)\r\n",
        "    for k in range(max_epochs):\r\n",
        "      epochorder = np.random.permutation(len(Y))\r\n",
        "      for idx in epochorder:\r\n",
        "        uidx = Y[idx,0]-1\r\n",
        "        vidx = Y[idx,1]-1\r\n",
        "        U[uidx,:] = U[uidx,:] - grad_U(U[uidx,:], Y[idx,2], V[vidx,:], reg, eta)\r\n",
        "        V[vidx,:] = V[vidx,:] - grad_V(V[vidx,:], Y[idx,2], U[uidx,:], reg, eta)\r\n",
        "      errs[k+1]= get_err(U, V, Y, reg)\r\n",
        "      if ((errs[k+1]-errs[k])/(errs[1]-errs[0]))<=eps:\r\n",
        "        return U, V, errs[k+1]\r\n",
        "    \r\n",
        "    return U, V, errs[-1]\r\n",
        "    pass"
      ],
      "execution_count": null,
      "outputs": []
    },
    {
      "cell_type": "markdown",
      "metadata": {
        "id": "XdPry_19OzvT"
      },
      "source": [
        "From Homework 5, we saw that the regularization $\\lambda = 0.1$ had the best testing error, so that's the value we can use for our factorization under this method:\r\n",
        "\r\n",
        "#***DO WE WANT TO DO/SHOW HYPERPARAMETER TRAINING, OR CHANGE THE TERMINATION REQUIREMENT?***\r\n",
        "^^if we do this, we should use the hyperparameters that lead to the best performance of the one *with* the bias term (see the section below this one, since i show the performance improves with the bias temrs)."
      ]
    },
    {
      "cell_type": "code",
      "metadata": {
        "colab": {
          "base_uri": "https://localhost:8080/"
        },
        "id": "vR-qFoCkO8g1",
        "outputId": "67d4d06f-8c09-4c4c-b419-e77fbfc43d01"
      },
      "source": [
        "print(\"Factorizing with \", nusers, \" users, \", nmovies, \" movies.\")\r\n",
        "k = 20\r\n",
        "reg = 0.1\r\n",
        "eta = 0.03 # learning rate\r\n",
        "\r\n",
        "print(\"Executing model Training... \")\r\n",
        "U,V, err = train_model(nusers, nmovies, K, eta, reg, Y_train)\r\n",
        "print(\"Training complete. Mean Prediction Training Error: \", err)\r\n",
        "print(\"Mean Prediction Error (Testing): \", get_err(U, V, Y_test))\r\n",
        "\r\n",
        "# NOTE:\r\n",
        "# We may want to do some additional tinkering (i.e. do hyperparam optimization,etc.)"
      ],
      "execution_count": null,
      "outputs": [
        {
          "output_type": "stream",
          "text": [
            "Factorizing with  943  users,  1682  movies.\n",
            "Executing model Training... \n",
            "Training complete. Mean Prediction Training Error:  0.33692687728612464\n",
            "Mean Prediction Error (Testing):  0.4551768374676125\n"
          ],
          "name": "stdout"
        }
      ]
    },
    {
      "cell_type": "markdown",
      "metadata": {
        "id": "sflcClfRQo_n"
      },
      "source": [
        "###2. Incorporating the Bias terms:\r\n",
        "\r\n",
        "To incorporate the bias terms, we can redo the above code blocks, but include bias vectors $a$, $b$ for users and movies, respectively. The gradients for these vectors are straightforward in the stochastic update for a single point, under the loss function $f$ from Homework 5:\r\n",
        "\\begin{equation}\r\n",
        "\\partial_{a_i} f= \\lambda a_i -(y_{ij}-\\mu - u_i^Tv_j - a_i -b_j)\r\n",
        "\\end{equation}\r\n",
        "\\begin{equation}\r\n",
        "\\partial_{b_j} f= \\lambda b_j -(y_{ij}-\\mu - u_i^Tv_j - a_i -b_j)\r\n",
        "\\end{equation}\r\n",
        "where $\\mu$ is the average of all the observed ratings."
      ]
    },
    {
      "cell_type": "code",
      "metadata": {
        "id": "ZTnl_10dS_fp"
      },
      "source": [
        "def grad_U(Ui, Yij, Vj, ai, bj, mu, reg, eta):\r\n",
        "    \"\"\"\r\n",
        "    Takes as input Ui (the ith row of U), a training point Yij, the column\r\n",
        "    vector Vj (jth column of V^T), reg (the regularization parameter lambda),\r\n",
        "    and eta (the learning rate).\r\n",
        "\r\n",
        "    Returns the gradient of the regularized loss function with\r\n",
        "    respect to Ui multiplied by eta.\r\n",
        "    \"\"\"\r\n",
        "    return eta*(reg*Ui - (Yij-mu-np.dot(Ui,Vj)-ai-bj)*Vj)\r\n",
        "    pass   \r\n",
        "\r\n",
        "def grad_V(Vj, Yij, Ui, ai, bj, mu, reg, eta):\r\n",
        "    \"\"\"\r\n",
        "    Takes as input the column vector Vj (jth column of V^T), a training point Yij,\r\n",
        "    Ui (the ith row of U), reg (the regularization parameter lambda),\r\n",
        "    and eta (the learning rate).\r\n",
        "\r\n",
        "    Returns the gradient of the regularized loss function with\r\n",
        "    respect to Vj multiplied by eta.\r\n",
        "    \"\"\"\r\n",
        "    return eta*(reg*Vj - (Yij-mu-np.dot(Ui,Vj)-ai-bj)*Ui)\r\n",
        "    pass\r\n",
        "\r\n",
        "def grad_a(Ui, Yij, Vj, ai, bj, mu, reg, eta):\r\n",
        "    \"\"\"\r\n",
        "    Takes as input Ui (the ith row of U), a training point Yij, the column\r\n",
        "    vector Vj (jth column of V^T), reg (the regularization parameter lambda),\r\n",
        "    and eta (the learning rate), as well as bias terms ai, bj\r\n",
        "\r\n",
        "    Returns the gradient of the regularized loss function with\r\n",
        "    respect to ai, multiplied by eta.\r\n",
        "    \"\"\"\r\n",
        "    return eta*(reg*ai-(Yij-mu-np.dot(Ui,Vj)-ai-bj))\r\n",
        "    pass\r\n",
        "\r\n",
        "def grad_b(Ui, Yij, Vj, ai, bj, mu, reg, eta):\r\n",
        "    \"\"\"\r\n",
        "    Takes as input Ui (the ith row of U), a training point Yij, the column\r\n",
        "    vector Vj (jth column of V^T), reg (the regularization parameter lambda),\r\n",
        "    and eta (the learning rate), as well as bias terms ai, bj\r\n",
        "\r\n",
        "    Returns the gradient of the regularized loss function with\r\n",
        "    respect to  bj, multiplied by eta.\r\n",
        "    \"\"\"\r\n",
        "    return eta*(reg*bj-(Yij-mu-np.dot(Ui,Vj)-ai-bj))\r\n",
        "    pass   \r\n",
        "\r\n",
        "def get_err(U, V, Y, a, b, reg=0.0):\r\n",
        "    \"\"\"\r\n",
        "    Takes as input a matrix Y of triples (i, j, Y_ij) where i is the index of a user,\r\n",
        "    j is the index of a movie, and Y_ij is user i's rating of movie j and\r\n",
        "    user/movie matrices U and V, as well as two bias vectors a, b.\r\n",
        "\r\n",
        "    Returns the mean regularized squared-error of predictions made by\r\n",
        "    estimating Y_{ij} as the dot product of the ith row of U and the jth column of V^T.\r\n",
        "    \"\"\"\r\n",
        "    err = 0\r\n",
        "    mu = np.mean(Y[:,2])\r\n",
        "    for i in range(len(Y)):\r\n",
        "      idx = Y[i,0]-1\r\n",
        "      jdx = Y[i,1]-1\r\n",
        "      err = err + 0.5*np.power((Y[i,2]-mu-np.dot(U[idx,:], V[jdx,:])-a[idx]-b[jdx]),2)\r\n",
        "    err = err + reg/2*(np.sum(U*U)+np.sum(V*V))\r\n",
        "    err = err/len(Y)\r\n",
        "\r\n",
        "    return err\r\n",
        "    pass\r\n",
        "\r\n",
        "\r\n",
        "def train_model(M, N, K, eta, reg, Y, eps=0.0001, max_epochs=300):\r\n",
        "    \"\"\"\r\n",
        "    Given a training data matrix Y containing rows (i, j, Y_ij)\r\n",
        "    where Y_ij is user i's rating on movie j, learns an\r\n",
        "    M x K matrix U and N x K matrix V such that rating Y_ij is approximated\r\n",
        "    by (UV^T)_ij, in addition to bias vectors a, b\r\n",
        "\r\n",
        "    Uses a learning rate of <eta> and regularization of <reg>. Stops after\r\n",
        "    <max_epochs> epochs, or once the magnitude of the decrease in regularized\r\n",
        "    MSE between epochs is smaller than a fraction <eps> of the decrease in\r\n",
        "    MSE after the first epoch.\r\n",
        "\r\n",
        "    Returns a tuple (U, V, a, b, err) consisting of U, V, a, b, and the \r\n",
        "    unregularized MSE of the model.\r\n",
        "    \"\"\"\r\n",
        "    U = np.random.uniform(-0.5, 0.5, (M,K))\r\n",
        "    V = np.random.uniform(-0.5, 0.5, (N,K))\r\n",
        "    a = np.random.uniform(-0.5, 0.5, M)\r\n",
        "    b = np.random.uniform(-0.5, 0.5, N)\r\n",
        "    errs = np.zeros(max_epochs+1)\r\n",
        "    errs[0] = get_err(U,V,Y,a,b,reg)\r\n",
        "    mu = np.mean(Y[:,2])\r\n",
        "    for k in range(max_epochs):\r\n",
        "      epochorder = np.random.permutation(len(Y))\r\n",
        "      for idx in epochorder:\r\n",
        "        uidx = Y[idx,0]-1\r\n",
        "        vidx = Y[idx,1]-1\r\n",
        "        U[uidx,:] = U[uidx,:] - grad_U(U[uidx,:], Y[idx,2], V[vidx,:], a[uidx], b[vidx], mu, reg, eta)\r\n",
        "        V[vidx,:] = V[vidx,:] - grad_V(V[vidx,:], Y[idx,2], U[uidx,:], a[uidx], b[vidx], mu, reg, eta)\r\n",
        "        a[uidx] = a[uidx] - grad_a(U[uidx,:], Y[idx,2], V[vidx,:], a[uidx], b[vidx], mu, reg, eta)\r\n",
        "        b[vidx] = b[vidx] - grad_b(U[uidx,:], Y[idx,2], V[vidx,:], a[uidx], b[vidx], mu, reg, eta)\r\n",
        "      errs[k+1]= get_err(U, V, Y, a, b, reg)\r\n",
        "      if ((errs[k+1]-errs[k])/(errs[1]-errs[0]))<=eps:\r\n",
        "        return U, V, a, b, errs[k+1]\r\n",
        "    \r\n",
        "    return U, V, a, b, errs[-1]\r\n",
        "    pass"
      ],
      "execution_count": null,
      "outputs": []
    },
    {
      "cell_type": "markdown",
      "metadata": {
        "id": "Jjz66scOVpUP"
      },
      "source": [
        "With the modifications made, it remains to train the new model, which we can look at under the same choice of parameters:"
      ]
    },
    {
      "cell_type": "code",
      "metadata": {
        "colab": {
          "base_uri": "https://localhost:8080/"
        },
        "id": "jWDVgcDLVt3D",
        "outputId": "d5d3a11f-67d3-4f6e-c203-83ab7ed7c8be"
      },
      "source": [
        "print(\"Factorizing with \", nusers, \" users, \", nmovies, \" movies.\")\r\n",
        "print(\"Executing model Training... \")\r\n",
        "U,V,a,b,err = train_model(nusers, nmovies, K, eta, reg, Y_train)\r\n",
        "print(\"Training complete. Mean Prediction Training Error: \", err)\r\n",
        "print(\"Mean Prediction Error (Testing): \", get_err(U, V, Y_test, a, b))\r\n",
        "\r\n",
        "# NOTE:\r\n",
        "# We may want to do some additional tinkering (i.e. do hyperparam optimization,etc.)"
      ],
      "execution_count": null,
      "outputs": [
        {
          "output_type": "stream",
          "text": [
            "Factorizing with  943  users,  1682  movies.\n",
            "Executing model Training... \n",
            "Training complete. Mean Prediction Training Error:  0.24916652018072138\n",
            "Mean Prediction Error (Testing):  0.4188762482025738\n"
          ],
          "name": "stdout"
        }
      ]
    },
    {
      "cell_type": "markdown",
      "metadata": {
        "id": "42Fws6o4W5Z7"
      },
      "source": [
        "And indeed we see under the incorporation of bias terms representing the deviation from the global bias, our training *and* testing error has improved. This means we can now look to the next part, which invovles\r\n",
        "\r\n",
        "###3. Off-the-shelf Implementation:\r\n",
        "\r\n",
        "We choose to use the `surprise` library which incorporates many useful matrix factorization methods. We can generate and test our matrix with the following code:\r\n",
        "\r\n",
        "#***DO WE WANT TO DO/SHOW HYPERPARAMETER TRAINING?***"
      ]
    },
    {
      "cell_type": "code",
      "metadata": {
        "id": "sHU9-wgrb1_k"
      },
      "source": [
        "!pip3 install surprise"
      ],
      "execution_count": null,
      "outputs": []
    },
    {
      "cell_type": "code",
      "metadata": {
        "colab": {
          "base_uri": "https://localhost:8080/"
        },
        "id": "CfR41ocuXbZF",
        "outputId": "b38c0936-13a9-40e7-8e95-b8c7d5fcd8f5"
      },
      "source": [
        "import surprise\r\n",
        "from surprise import SVD\r\n",
        "from surprise import Dataset\r\n",
        "from surprise.model_selection import cross_validate\r\n",
        "\r\n",
        "sreader = surprise.Reader(rating_scale = (1, 5.0))\r\n",
        "\r\n",
        "strain = Dataset.load_from_df(pd.DataFrame(Y_train), sreader)\r\n",
        "trainset = strain.build_full_trainset()\r\n",
        "trainset.n_items=max(Y_train[:,1])\r\n",
        "\r\n",
        "algo = SVD(n_factors = k, biased = True, lr_all = eta, reg_all = reg)\r\n",
        "algo.fit(trainset)\r\n",
        "\r\n",
        "'''See below section. This can instead be used if we don't care about ordering.'''\r\n",
        "#predictions = np.zeros(len(Y_test))\r\n",
        "#for i in range(len(Y_test)):\r\n",
        "#  uid = Y_test[i,0]\r\n",
        "#  iid = Y_test[i,1]\r\n",
        "#  predictions[i] = algo.predict(uid, iid).est\r\n",
        "#\r\n",
        "#testmetric = 0.5*np.sum(np.power(predictions-Y_test[:,2],2))/len(Y_test)\r\n",
        "#print(\"\\nTest-error metric for SVD: \", testmetric)"
      ],
      "execution_count": null,
      "outputs": [
        {
          "output_type": "stream",
          "text": [
            "\n",
            "Test-error metric for SVD:  0.413249966973112\n"
          ],
          "name": "stdout"
        }
      ]
    },
    {
      "cell_type": "markdown",
      "metadata": {
        "id": "p0oZ_2TPqUGY"
      },
      "source": [
        "Unfortunately, the surprise library maps ID labels as strings (even when input as integers) to internal labels, so the ordering of movie and user ids in the matrices that surprise gives us back is not preserved. \r\n",
        "\r\n",
        "To be specific, there are some movie ids \"missing\" in the training set (for instance, movie id 1678 does not appear in the training set) so the number of unique features to train over is actually smaller than 1682 (there are 1668), and therefore the resulting rows/columns from our Homework 5 SGD code never get updated, remaining as the random noise to which they were initialized.\r\n",
        "\r\n",
        "To manipulate the output matrix from surprise and map it back into a larger matrix of the same form as our $U$, $V$, we thus have to reverse-map the suprise-ids back to the movie ids, and write these into another randomized matrix (where again the \"untrained\" columns and rows remain randomized, which will cause a slight discrepancy in the error calculation seen below and the prediction methods that the surprise library utilizes):"
      ]
    },
    {
      "cell_type": "code",
      "metadata": {
        "colab": {
          "base_uri": "https://localhost:8080/"
        },
        "id": "OkooWvtGfaOO",
        "outputId": "4ef20961-5db9-49ea-cda3-52eb522e835a"
      },
      "source": [
        "U_surprise = algo.pu\r\n",
        "V_surprise = algo.qi\r\n",
        "a_surprise = algo.bu\r\n",
        "b_surprise = algo.bi\r\n",
        "\r\n",
        "U = np.random.uniform(-0.5, 0.5, (nusers,k))\r\n",
        "V = np.random.uniform(-0.5, 0.5, (nmovies,k))\r\n",
        "a = np.random.uniform(-0.5, 0.5, nusers)\r\n",
        "b = np.random.uniform(-0.5, 0.5, nmovies)\r\n",
        "\r\n",
        "for i in range(len(mapping_u)):\r\n",
        "  idx = trainset.to_raw_uid(i)-1\r\n",
        "  U[idx,:] = U_surprise[i,:]\r\n",
        "  a[idx] = a_surprise[i]\r\n",
        "for i in range(len(mapping_m)):\r\n",
        "  idx = trainset.to_raw_iid(i)-1\r\n",
        "  V[idx,:] = V_surprise[i,:]\r\n",
        "  b[idx] = b_surprise[i]\r\n",
        "\r\n",
        "testmetric = get_err(U, V, Y_test, a, b)\r\n",
        "print(\"\\nTest-error metric for SVD: \", testmetric)"
      ],
      "execution_count": null,
      "outputs": [
        {
          "output_type": "stream",
          "text": [
            "\n",
            "Test-error metric for SVD:  0.41389793142430464\n"
          ],
          "name": "stdout"
        }
      ]
    },
    {
      "cell_type": "markdown",
      "metadata": {
        "id": "YQvxjWFm3biV"
      },
      "source": [
        "And so we see similar performance from the Surprise library to our SGD code from Homework 5. This leads us to\r\n",
        "\r\n",
        "##Visualization\r\n",
        "###1. Spatial Projection of Latent Features:\r\n",
        "\r\n",
        "to visualize our data in 2D space after determining a higher-dimensional relationsihp from the matrix factorization, we can run SVD on $V$ from our factorization algorithm and use the leading columns to project our features into a 2D space:"
      ]
    },
    {
      "cell_type": "code",
      "metadata": {
        "colab": {
          "base_uri": "https://localhost:8080/"
        },
        "id": "8JPNcP1b4Mod",
        "outputId": "ecee84f6-f6f0-424e-e3e0-9c5e5cce1584"
      },
      "source": [
        "'''Asked on Piazza on how to do the lines below that throws an error/are problematic'''\r\n",
        "#A, S, B = np.linalg.svd(V)\r\n",
        "#proj = A[:,0:2]\r\n",
        "#Uproj = np.matmul(np.transpose(proj),U)\r\n",
        "#Vproj = np.matmul(np.transpose(proj),V)\r\n",
        "'''They want a V-tilde thats 2x1682, but the formula they have gives us 2x20'''\r\n",
        "\r\n",
        "##I think this is the fix, but someone else should verify:\r\n",
        "A, S, B = np.linalg.svd(np.transpose(V))\r\n",
        "proj = A[:, 0:2]\r\n",
        "Uproj = np.matmul(np.transpose(proj),np.transpose(U))\r\n",
        "Vproj = np.matmul(np.transpose(proj),np.transpose(V))\r\n",
        "print(np.shape(Uproj))\r\n",
        "print(np.shape(Vproj))"
      ],
      "execution_count": null,
      "outputs": [
        {
          "output_type": "stream",
          "text": [
            "(20, 2) (1682, 20) (943, 20)\n",
            "(2, 943)\n",
            "(2, 1682)\n"
          ],
          "name": "stdout"
        }
      ]
    },
    {
      "cell_type": "markdown",
      "metadata": {
        "id": "_wq-M3J27pzk"
      },
      "source": [
        "With the projections complete, it remains to use these 2D representations to make some informative visualizations!\r\n",
        "\r\n",
        "###2a. Ten Movies of Choice by the Team:"
      ]
    },
    {
      "cell_type": "code",
      "metadata": {
        "colab": {
          "base_uri": "https://localhost:8080/",
          "height": 283
        },
        "id": "Bmj-GnBD76Am",
        "outputId": "25fcc605-3591-4b5a-92b1-7d728adc3e2d"
      },
      "source": [
        "#Naive scatterplot for giggles\r\n",
        "plt.scatter(Vproj[0,:],Vproj[1,:])\r\n",
        "\r\n",
        "#A particular movie will have a point at (Vproj[0,i],Vproj[1,i]), where i = (movieid-1)\r\n",
        "#Can also use the rest of the calcualted quantities above to your heart's desire"
      ],
      "execution_count": null,
      "outputs": [
        {
          "output_type": "execute_result",
          "data": {
            "text/plain": [
              "<matplotlib.collections.PathCollection at 0x7f3acd5a61d0>"
            ]
          },
          "metadata": {
            "tags": []
          },
          "execution_count": 286
        },
        {
          "output_type": "display_data",
          "data": {
            "image/png": "[encoded data removed]",
            "text/plain": [
              "<Figure size 432x288 with 1 Axes>"
            ]
          },
          "metadata": {
            "tags": [],
            "needs_background": "light"
          }
        }
      ]
    },
    {
      "cell_type": "markdown",
      "metadata": {
        "id": "5aOIdoNX76xQ"
      },
      "source": [
        "_insert analysis_\r\n",
        "\r\n",
        "###2b. Top 10 Movies by Number of Ratings:"
      ]
    },
    {
      "cell_type": "code",
      "metadata": {
        "id": "iEFdEEVa8Qn9"
      },
      "source": [
        ""
      ],
      "execution_count": null,
      "outputs": []
    },
    {
      "cell_type": "markdown",
      "metadata": {
        "id": "KsAibR1X8Q7B"
      },
      "source": [
        "_insert analysis_\r\n",
        "\r\n",
        "###2c. Top 10 Movies by Average Rating:"
      ]
    },
    {
      "cell_type": "code",
      "metadata": {
        "id": "C1EuVK_88UmV"
      },
      "source": [
        ""
      ],
      "execution_count": null,
      "outputs": []
    },
    {
      "cell_type": "markdown",
      "metadata": {
        "id": "_HN4yeAk8U4l"
      },
      "source": [
        "_insert analysis_\r\n",
        "\r\n",
        "###2d. Top 10 Movies per Genre for three Genres:"
      ]
    },
    {
      "cell_type": "code",
      "metadata": {
        "id": "kQNcxw3z8fs_"
      },
      "source": [
        ""
      ],
      "execution_count": null,
      "outputs": []
    },
    {
      "cell_type": "markdown",
      "metadata": {
        "id": "MQrMfNM78gB9"
      },
      "source": [
        "_insert analysis_"
      ]
    }
  ]
}