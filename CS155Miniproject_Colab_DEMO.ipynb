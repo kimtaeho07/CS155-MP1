{
  "nbformat": 4,
  "nbformat_minor": 0,
  "metadata": {
    "colab": {
      "name": "CS155Miniproject_Colab_DEMO.ipynb",
      "provenance": [],
      "collapsed_sections": []
    },
    "kernelspec": {
      "name": "python3",
      "display_name": "Python 3"
    }
  },
  "cells": [
    {
      "cell_type": "markdown",
      "metadata": {
        "id": "qQmFvvd0pgd-"
      },
      "source": [
        "#**Team \"MCE Friends\": Miniproject 1 Colab Demo**\r\n",
        "\r\n",
        "In this notebook, we step through the main exeution pipeline for the decision-tree based models used in classifying the wildfire test data for the Kaggle Competition.\r\n",
        "\r\n",
        "## *PRELIMINARIES*:\r\n",
        "\r\n",
        "To begin, let's import the main packages (we'll import the others as we go), and import the data:"
      ]
    },
    {
      "cell_type": "code",
      "metadata": {
        "id": "qanxhZZnYkaK"
      },
      "source": [
        "import pandas as pd\r\n",
        "import matplotlib.pyplot as plt\r\n",
        "import numpy as np\r\n",
        "\r\n",
        "#Preliminaries:\r\n",
        "url_train = \"https://github.com/lakigigar/Caltech-CS155-2021/blob/main/projects/project1/WILDFIRES_TRAIN.zip?raw=TRUE\"\r\n",
        "url_test = \"https://github.com/lakigigar/Caltech-CS155-2021/blob/main/projects/project1/WILDFIRES_TEST.zip?raw=TRUE\"\r\n",
        "df_train = pd.read_csv(url_train, compression=\"zip\", index_col=\"id\")\r\n",
        "df_test = pd.read_csv(url_test, compression = \"zip\", index_col=\"id\")"
      ],
      "execution_count": 1,
      "outputs": []
    },
    {
      "cell_type": "markdown",
      "metadata": {
        "id": "d_gyVMA6XrB3"
      },
      "source": [
        "Let's give the data a peek and grab some cursory information:"
      ]
    },
    {
      "cell_type": "code",
      "metadata": {
        "colab": {
          "base_uri": "https://localhost:8080/",
          "height": 960
        },
        "id": "opqPLjo1aZhr",
        "outputId": "765a1995-ee9c-494a-a57f-341f372b45c4"
      },
      "source": [
        "#Peek at data\r\n",
        "print(\"TRAINING DATAFRAME:\\n\")\r\n",
        "df_train.info()\r\n",
        "print(\"\\n\\n TESTING DATAFRAME: \\n\\n\")\r\n",
        "df_test.info()\r\n",
        "print(\"\\n PEEK AT TRAINING DATA:\")\r\n",
        "df_train.head(5)\r\n"
      ],
      "execution_count": 2,
      "outputs": [
        {
          "output_type": "stream",
          "text": [
            "TRAINING DATAFRAME:\n",
            "\n",
            "<class 'pandas.core.frame.DataFrame'>\n",
            "Int64Index: 285382 entries, 0 to 285381\n",
            "Data columns (total 10 columns):\n",
            " #   Column                      Non-Null Count   Dtype  \n",
            "---  ------                      --------------   -----  \n",
            " 0   LATITUDE                    285382 non-null  float64\n",
            " 1   LONGITUDE                   285382 non-null  float64\n",
            " 2   STATE                       285382 non-null  object \n",
            " 3   DISCOVERY_TIME              143974 non-null  float64\n",
            " 4   FIRE_SIZE                   285382 non-null  float64\n",
            " 5   FIPS_NAME                   144822 non-null  object \n",
            " 6   FIPS_CODE                   144822 non-null  float64\n",
            " 7   SOURCE_REPORTING_UNIT_NAME  285382 non-null  object \n",
            " 8   DATE                        285382 non-null  object \n",
            " 9   LABEL                       285382 non-null  int64  \n",
            "dtypes: float64(5), int64(1), object(4)\n",
            "memory usage: 24.0+ MB\n",
            "\n",
            "\n",
            " TESTING DATAFRAME: \n",
            "\n",
            "\n",
            "<class 'pandas.core.frame.DataFrame'>\n",
            "Int64Index: 73035 entries, 285382 to 358416\n",
            "Data columns (total 9 columns):\n",
            " #   Column                      Non-Null Count  Dtype  \n",
            "---  ------                      --------------  -----  \n",
            " 0   LATITUDE                    73035 non-null  float64\n",
            " 1   LONGITUDE                   73035 non-null  float64\n",
            " 2   STATE                       73035 non-null  object \n",
            " 3   DISCOVERY_TIME              65676 non-null  float64\n",
            " 4   FIRE_SIZE                   73035 non-null  float64\n",
            " 5   FIPS_NAME                   61913 non-null  object \n",
            " 6   FIPS_CODE                   61913 non-null  float64\n",
            " 7   SOURCE_REPORTING_UNIT_NAME  73035 non-null  object \n",
            " 8   DATE                        73035 non-null  object \n",
            "dtypes: float64(5), object(4)\n",
            "memory usage: 5.6+ MB\n",
            "\n",
            " PEEK AT TRAINING DATA:\n"
          ],
          "name": "stdout"
        },
        {
          "output_type": "execute_result",
          "data": {
            "text/html": [
              "<div>\n",
              "<style scoped>\n",
              "    .dataframe tbody tr th:only-of-type {\n",
              "        vertical-align: middle;\n",
              "    }\n",
              "\n",
              "    .dataframe tbody tr th {\n",
              "        vertical-align: top;\n",
              "    }\n",
              "\n",
              "    .dataframe thead th {\n",
              "        text-align: right;\n",
              "    }\n",
              "</style>\n",
              "<table border=\"1\" class=\"dataframe\">\n",
              "  <thead>\n",
              "    <tr style=\"text-align: right;\">\n",
              "      <th></th>\n",
              "      <th>LATITUDE</th>\n",
              "      <th>LONGITUDE</th>\n",
              "      <th>STATE</th>\n",
              "      <th>DISCOVERY_TIME</th>\n",
              "      <th>FIRE_SIZE</th>\n",
              "      <th>FIPS_NAME</th>\n",
              "      <th>FIPS_CODE</th>\n",
              "      <th>SOURCE_REPORTING_UNIT_NAME</th>\n",
              "      <th>DATE</th>\n",
              "      <th>LABEL</th>\n",
              "    </tr>\n",
              "    <tr>\n",
              "      <th>id</th>\n",
              "      <th></th>\n",
              "      <th></th>\n",
              "      <th></th>\n",
              "      <th></th>\n",
              "      <th></th>\n",
              "      <th></th>\n",
              "      <th></th>\n",
              "      <th></th>\n",
              "      <th></th>\n",
              "      <th></th>\n",
              "    </tr>\n",
              "  </thead>\n",
              "  <tbody>\n",
              "    <tr>\n",
              "      <th>0</th>\n",
              "      <td>38.205000</td>\n",
              "      <td>-120.335000</td>\n",
              "      <td>CA</td>\n",
              "      <td>130.0</td>\n",
              "      <td>0.10</td>\n",
              "      <td>NaN</td>\n",
              "      <td>NaN</td>\n",
              "      <td>Stanislaus National Forest</td>\n",
              "      <td>1992-01-01</td>\n",
              "      <td>1</td>\n",
              "    </tr>\n",
              "    <tr>\n",
              "      <th>1</th>\n",
              "      <td>33.813100</td>\n",
              "      <td>-85.104300</td>\n",
              "      <td>GA</td>\n",
              "      <td>1115.0</td>\n",
              "      <td>1.17</td>\n",
              "      <td>Haralson</td>\n",
              "      <td>143.0</td>\n",
              "      <td>Georgia Forestry Commission</td>\n",
              "      <td>1992-01-01</td>\n",
              "      <td>4</td>\n",
              "    </tr>\n",
              "    <tr>\n",
              "      <th>2</th>\n",
              "      <td>32.201000</td>\n",
              "      <td>-82.498700</td>\n",
              "      <td>GA</td>\n",
              "      <td>1600.0</td>\n",
              "      <td>0.07</td>\n",
              "      <td>Montgomery</td>\n",
              "      <td>209.0</td>\n",
              "      <td>Georgia Forestry Commission</td>\n",
              "      <td>1992-01-01</td>\n",
              "      <td>2</td>\n",
              "    </tr>\n",
              "    <tr>\n",
              "      <th>3</th>\n",
              "      <td>32.509300</td>\n",
              "      <td>-81.708600</td>\n",
              "      <td>GA</td>\n",
              "      <td>1215.0</td>\n",
              "      <td>4.40</td>\n",
              "      <td>Bulloch</td>\n",
              "      <td>31.0</td>\n",
              "      <td>Georgia Forestry Commission</td>\n",
              "      <td>1992-01-01</td>\n",
              "      <td>4</td>\n",
              "    </tr>\n",
              "    <tr>\n",
              "      <th>4</th>\n",
              "      <td>33.663889</td>\n",
              "      <td>-116.171944</td>\n",
              "      <td>CA</td>\n",
              "      <td>NaN</td>\n",
              "      <td>0.20</td>\n",
              "      <td>NaN</td>\n",
              "      <td>NaN</td>\n",
              "      <td>CDF - Riverside Unit</td>\n",
              "      <td>1992-01-01</td>\n",
              "      <td>2</td>\n",
              "    </tr>\n",
              "  </tbody>\n",
              "</table>\n",
              "</div>"
            ],
            "text/plain": [
              "     LATITUDE   LONGITUDE STATE  ...   SOURCE_REPORTING_UNIT_NAME        DATE LABEL\n",
              "id                               ...                                               \n",
              "0   38.205000 -120.335000    CA  ...   Stanislaus National Forest  1992-01-01     1\n",
              "1   33.813100  -85.104300    GA  ...  Georgia Forestry Commission  1992-01-01     4\n",
              "2   32.201000  -82.498700    GA  ...  Georgia Forestry Commission  1992-01-01     2\n",
              "3   32.509300  -81.708600    GA  ...  Georgia Forestry Commission  1992-01-01     4\n",
              "4   33.663889 -116.171944    CA  ...         CDF - Riverside Unit  1992-01-01     2\n",
              "\n",
              "[5 rows x 10 columns]"
            ]
          },
          "metadata": {
            "tags": []
          },
          "execution_count": 2
        }
      ]
    },
    {
      "cell_type": "markdown",
      "metadata": {
        "id": "oUTIYMBaYX9l"
      },
      "source": [
        "This gives us a cursory glance at the data we'll be using, and we can also see that there are `NaN` values in only three particular columns, the `FIPS_NAME`, `FIPS_CODE`, and `DISCOVERY_TIME` columns. We will have to be careful about how we handle these if we want a high-performing model.\r\n",
        "\r\n",
        "Furthermore, one can look at the data and see that the `FIPS_NAME` column is perfectly correlated to the `FIPS_CODE` column - that is, that the code column gives the id code of the name column. Therefore, we do not have to include the name column in this model, as its information is already categorically encoded in the code column (and, by keeping it out, we decrease the dimension size by one, which makes our model simpler, hooray!)\r\n",
        "\r\n",
        "\r\n",
        "With our preliminaries out of the way, we can begin the ETL (**E**xtract, **T**ransform, **L**oad) process on our data before inputting into a model training pipeline."
      ]
    },
    {
      "cell_type": "markdown",
      "metadata": {
        "id": "uKdn_xHspkGO"
      },
      "source": [
        "#*DATA: FORMATTING*\r\n",
        "\r\n",
        "The first thing we need to do is get the data we have into the formats we want for the model. Of the provided data types, we see there are 4 types of numerical data (`LATITUDE`, `LONGITUDE`, `DISCOVERY_TIME`, `FIRE_SIZE`), one date column that has been read-in as a string, and the rest are categorical data. Pandas already converted all the numerical columns into numbers for us (the `DISCOVERY_TIME` column is technically a 24-hour time-formatted data column, for for our purposes reading the number as a float from 0-2400 is also indicative of the relationship between the temporal label and the time of day, so this plays in our favor), and so it is left up to us to treat the date and categorical data as we see fit and get the informaiton into numerical form before we can move on."
      ]
    },
    {
      "cell_type": "code",
      "metadata": {
        "id": "SFiLJSlTdXCz"
      },
      "source": [
        "#Let's build a dataframe of the input data we already have in usable form\r\n",
        "input_data = df_train[['LATITUDE', 'LONGITUDE', \"FIRE_SIZE\", \"LABEL\"]].copy()\r\n",
        "test_data = df_test[['LATITUDE', 'LONGITUDE', 'FIRE_SIZE']].copy()"
      ],
      "execution_count": 3,
      "outputs": []
    },
    {
      "cell_type": "markdown",
      "metadata": {
        "id": "rT1egHY9dYa_"
      },
      "source": [
        "Numerical ML models cannot take categorical data, input features must be in a *numerical* format. Therefore, we must choose how to \"encode\" our categorical and date data. Due to the number of DISTINCT features in the FIPS columns (too many for one-hot encoding, which would increase our dimensions by nearly 200), we choose to *label-encode* these categories (each distinct category gets its own integer), which pandas has readily-built functions to accomplish. This gives us the added benefit of turning `NaN`s into their *own* category, in case the choice by the original scribe to leave out a label is also indicative of a trend in the data. This also means we do not have to excise these values from the data set, and therefore have more training data to work with.\r\n",
        "\r\n",
        "\r\n",
        "We must also keep in mind: *whatever we do to the training data, we must also do to the testing data*, if we want our model inputs (and results) to be accurate. Therefore, we must also encode the categories of the training set according to the categories of the training set (this results in a few more `NaN`s since there are more distinct categories in the test data than the training data, but we have handled those by giving them their own category)."
      ]
    },
    {
      "cell_type": "code",
      "metadata": {
        "id": "H7rZVoSfeuWo"
      },
      "source": [
        "#Since FIPS_NAME and FIPS_CODE are perfectly correlated (the code gives the id number of name),\r\n",
        "#there is only need to use one of these two columns. Let's use FIP_CODE.\r\n",
        "#SOURCE_REPORTING_UNIT_NAME, FIPS_CODE Columns:\r\n",
        "fipscategories = df_train[\"FIPS_CODE\"].astype('category').cat.categories\r\n",
        "namecategories = df_train[\"SOURCE_REPORTING_UNIT_NAME\"].astype('category').cat.categories\r\n",
        "\r\n",
        "fipcdlbl = df_train[\"FIPS_CODE\"].astype('category').cat.codes\r\n",
        "srcnamelbl = df_train[\"SOURCE_REPORTING_UNIT_NAME\"].astype('category').cat.codes\r\n",
        "input_data[\"FIPCOD_CAT\"] = fipcdlbl\r\n",
        "input_data[\"SRCNAM_CAT\"] = srcnamelbl\r\n",
        "\r\n",
        "srcnamelbl_test = pd.Series(pd.Categorical(df_test['SOURCE_REPORTING_UNIT_NAME'].to_list(),\r\n",
        "               categories=namecategories)).cat.codes.values\r\n",
        "fipcdlbl_test = pd.Series(pd.Categorical(df_test['FIPS_CODE'].to_list(),\r\n",
        "               categories=fipscategories)).cat.codes.values\r\n",
        "test_data[\"FIPCOD_CAT\" ] = fipcdlbl_test\r\n",
        "test_data[\"SRCNAM_CAT\"] = srcnamelbl_test"
      ],
      "execution_count": 4,
      "outputs": []
    },
    {
      "cell_type": "markdown",
      "metadata": {
        "id": "RGwotjUMewVr"
      },
      "source": [
        "For the time data, we can make use of the `datetime` library to convert the string into desirable numeric data. As a group, we believe the most relevant information about the fires for the model will be encoded into what fraction of the year they occur, that is, their day-of-the-year (1-365, or 366 for leap years). This permits the data to reflect seasonal trends, and account for year-over-year variability in fires (for instance, if we know the summer months are particularly problematic, then the summer range of days-of-the-year will capture this information in the aggregate, rather than trying to split it over month and year and see large variability in some months/years vs others)."
      ]
    },
    {
      "cell_type": "code",
      "metadata": {
        "id": "_xaybon7e_XE"
      },
      "source": [
        "#Date column:\r\n",
        "#For dates, the most information will likely come from the day of the year, which\r\n",
        "#should capture monthly and seasonal data in a continuous spread.\r\n",
        "from datetime import datetime\r\n",
        "day_of_year=df_train['DATE'].apply(lambda x: datetime.strptime(x, '%Y-%m-%d').timetuple().tm_yday)\r\n",
        "input_data[\"DAY_OF_YR\"] = day_of_year\r\n",
        "\r\n",
        "day_test = df_test['DATE'].apply(lambda x: datetime.strptime(x, '%Y-%m-%d').timetuple().tm_yday)\r\n",
        "test_data['DAY_OF_YR'] = day_test"
      ],
      "execution_count": 5,
      "outputs": []
    },
    {
      "cell_type": "markdown",
      "metadata": {
        "id": "qxUgqm3GfFMI"
      },
      "source": [
        "With this step complete, we have already handled most of the `NaN`s in the data, but a few remain in the time column, which we still want to use. Therefore, we can now move onto the next step of the process, which is:\r\n",
        "\r\n",
        "#*DATA: CLEANING/ENGINEERING*\r\n",
        "\r\n",
        "All of our data is now formatted properly, and we now wish to take this data and make it into the numerical features we wish to actually input to the model (we already technically began this process when we converted our date strings into a new feature, the day-of-the-year). The only remaining `NaN`s in the data are found in the `DISCOVERY_TIME` column, which is a numerical form we would like to include as a feature to our model.\r\n",
        "\r\n",
        "In data science and ML, there are many ways to handle `NaN`s when they cannot be categorized (or the user does not want them to be), among the main choices being imputation (replacing `NaN`s with the mean/median/mode of their respective feature, or making some attempt to predict them from other feature correlations), excising (removing the entries with `NaN`s, which can significantly reduce the amount of available data or obscure subtle trends which may be related to the `NaN`s), or categorizing (like what happened with the above section, we make the `Nan`s clearly distinct from the rest of the entries in their column.\r\n",
        "\r\n",
        "Likewise, a model will stand a better chance of performance if the trends it has to pick up are relatively localized in the parameter space, and exist in a \"beneficial\" way (for instance, gradient descent has an easier time navigating the parameter space when the contours of the objective function are circular, rather than ovular, and classifiers can better distinguish boundaries when they are more localized in space, rather than spread very far over the dimensions of other features). Therefore, it is usually helpful to *standardize* (give the z-score of the data, i.e. scale it to have a mean of 0 and a standard deviation of 1) or *0-1 scale* (make the minimum zero and the maximum 1) the numerical data of the features, or at least make sure the majority of each feature lies in a similar-order range. Therefore, we will also scale/standardize our numerical features to lie in a similar range (however, we will not do this to the categorical data, as \"squishing\" the trends in categories closer together is precisely what we do *not* want our model to deal with, and these shall remain untouched to permit wider distances between categories in the feature space).\r\n",
        "\r\n",
        "Let's start with the time column. We can 0-1 scale the time data, and then also give the `NaN`s a -1, which categorizes the `NaN`s and permits us to keep *all* the data in the training set (and correspondingly shift the test-times, too)"
      ]
    },
    {
      "cell_type": "code",
      "metadata": {
        "id": "neRt4gJbiZid"
      },
      "source": [
        "#The only remaining NaNs in the dataset are in the discovery time column\r\n",
        "#Let's 0-1 scale this column and give the NaNs a -1:\r\n",
        "times = df_train[\"DISCOVERY_TIME\"].to_numpy()\r\n",
        "goodtimes = times[~np.isnan(times)]\r\n",
        "gtmin = np.amin(goodtimes)\r\n",
        "gtmax = np.amax(goodtimes-gtmin)\r\n",
        "goodtimes = (goodtimes-gtmin)/gtmax\r\n",
        "times[~np.isnan(times)]=goodtimes\r\n",
        "times[np.isnan(times)]=-1\r\n",
        "input_data[\"SCALED_TIME\"]=times\r\n",
        "\r\n",
        "time_test = df_test['DISCOVERY_TIME'].to_numpy()\r\n",
        "time_test = (time_test - gtmin)/gtmax\r\n",
        "time_test[np.isnan(time_test)]=-1\r\n",
        "test_data[\"SCALED_TIME\"] = time_test"
      ],
      "execution_count": 6,
      "outputs": []
    },
    {
      "cell_type": "markdown",
      "metadata": {
        "id": "R11XAUmhie8S"
      },
      "source": [
        "We can then also scale the rest of the features we've input so far:"
      ]
    },
    {
      "cell_type": "code",
      "metadata": {
        "id": "QsWv62q1i2m6"
      },
      "source": [
        "#Latitude (Standardized):\r\n",
        "latmean = input_data['LATITUDE'].mean()\r\n",
        "latstd = input_data['LATITUDE'].std()\r\n",
        "input_data['LATITUDE']=(input_data['LATITUDE']-latmean)/latstd\r\n",
        "test_data['LATITUDE'] = (test_data['LATITUDE']-latmean)/latstd\r\n",
        "\r\n",
        "#Longitude (Standardized):\r\n",
        "lonmean = input_data['LONGITUDE'].mean()\r\n",
        "lonstd = input_data['LONGITUDE'].std()\r\n",
        "input_data['LONGITUDE']=(input_data['LONGITUDE']-lonmean)/lonstd\r\n",
        "test_data['LONGITUDE'] = (test_data['LONGITUDE']-lonmean)/lonstd\r\n",
        "\r\n",
        "#Day-Of-Year (0-1 scaled):\r\n",
        "daymax = input_data['DAY_OF_YR'].max()\r\n",
        "input_data['DAY_OF_YR']=input_data['DAY_OF_YR']/daymax\r\n",
        "test_data['DAY_OF_YR']=test_data['DAY_OF_YR']/daymax"
      ],
      "execution_count": 7,
      "outputs": []
    },
    {
      "cell_type": "markdown",
      "metadata": {
        "id": "k6JvWDn6jT3r"
      },
      "source": [
        "Our preliminary data investigation also showed all of the data as being categorized as from California or Georgia. We believe we can extract more utility from this to use alongside the lat/lon data, and so choose to use k-means clustering to provide geographical *clusters*, instead of just states, to use in our model input (perhaps crime-related fires are more localized in a particular county or region, or natural fires more prevalent in the Central Valley, etc., there may be locally-dependent trends as well). These clusters will give us another categorical (label-encoded) feature to use in our data. We can also visualize these clusters afterwards and show their centroids:"
      ]
    },
    {
      "cell_type": "code",
      "metadata": {
        "colab": {
          "base_uri": "https://localhost:8080/",
          "height": 265
        },
        "id": "eUbKx8BVgVlt",
        "outputId": "de52c8bd-d6c5-4393-9631-32d874885242"
      },
      "source": [
        "#Now let's make cluster labels instead of just lat/lon, and visualize them:\r\n",
        "from sklearn.cluster import KMeans\r\n",
        "clusters = KMeans(20).fit(df_train[['LATITUDE', 'LONGITUDE']])\r\n",
        "plt.scatter(df_train['LONGITUDE'], df_train['LATITUDE'], c = clusters.labels_)\r\n",
        "plt.scatter(clusters.cluster_centers_[:,1], clusters.cluster_centers_[:,0], c = \"black\")\r\n",
        "plt.show()\r\n",
        "input_data['CLUSTER_ID'] = clusters.labels_\r\n",
        "\r\n",
        "test_clusters = clusters.predict(df_test[['LATITUDE', 'LONGITUDE']])\r\n",
        "test_data['CLUSTER_ID'] = test_clusters"
      ],
      "execution_count": 8,
      "outputs": [
        {
          "output_type": "display_data",
          "data": {
            "image/png": "[encoded data removed]",
            "text/plain": [
              "<Figure size 432x288 with 1 Axes>"
            ]
          },
          "metadata": {
            "tags": [],
            "needs_background": "light"
          }
        }
      ]
    },
    {
      "cell_type": "markdown",
      "metadata": {
        "id": "UHiA8P2FkHK5"
      },
      "source": [
        "With all these manipulations completed, let's take another peek at our new input data:"
      ]
    },
    {
      "cell_type": "code",
      "metadata": {
        "colab": {
          "base_uri": "https://localhost:8080/",
          "height": 446
        },
        "id": "Mgcja9CpkN_M",
        "outputId": "571ec1f3-1cb2-4b44-91a3-a126bac0293f"
      },
      "source": [
        "input_data"
      ],
      "execution_count": 9,
      "outputs": [
        {
          "output_type": "execute_result",
          "data": {
            "text/html": [
              "<div>\n",
              "<style scoped>\n",
              "    .dataframe tbody tr th:only-of-type {\n",
              "        vertical-align: middle;\n",
              "    }\n",
              "\n",
              "    .dataframe tbody tr th {\n",
              "        vertical-align: top;\n",
              "    }\n",
              "\n",
              "    .dataframe thead th {\n",
              "        text-align: right;\n",
              "    }\n",
              "</style>\n",
              "<table border=\"1\" class=\"dataframe\">\n",
              "  <thead>\n",
              "    <tr style=\"text-align: right;\">\n",
              "      <th></th>\n",
              "      <th>LATITUDE</th>\n",
              "      <th>LONGITUDE</th>\n",
              "      <th>FIRE_SIZE</th>\n",
              "      <th>LABEL</th>\n",
              "      <th>FIPCOD_CAT</th>\n",
              "      <th>SRCNAM_CAT</th>\n",
              "      <th>DAY_OF_YR</th>\n",
              "      <th>SCALED_TIME</th>\n",
              "      <th>CLUSTER_ID</th>\n",
              "    </tr>\n",
              "    <tr>\n",
              "      <th>id</th>\n",
              "      <th></th>\n",
              "      <th></th>\n",
              "      <th></th>\n",
              "      <th></th>\n",
              "      <th></th>\n",
              "      <th></th>\n",
              "      <th></th>\n",
              "      <th></th>\n",
              "      <th></th>\n",
              "    </tr>\n",
              "  </thead>\n",
              "  <tbody>\n",
              "    <tr>\n",
              "      <th>0</th>\n",
              "      <td>0.988290</td>\n",
              "      <td>-0.985736</td>\n",
              "      <td>0.10</td>\n",
              "      <td>1</td>\n",
              "      <td>-1</td>\n",
              "      <td>157</td>\n",
              "      <td>0.002732</td>\n",
              "      <td>0.055108</td>\n",
              "      <td>6</td>\n",
              "    </tr>\n",
              "    <tr>\n",
              "      <th>1</th>\n",
              "      <td>-0.401536</td>\n",
              "      <td>0.925103</td>\n",
              "      <td>1.17</td>\n",
              "      <td>4</td>\n",
              "      <td>72</td>\n",
              "      <td>71</td>\n",
              "      <td>0.002732</td>\n",
              "      <td>0.472658</td>\n",
              "      <td>0</td>\n",
              "    </tr>\n",
              "    <tr>\n",
              "      <th>2</th>\n",
              "      <td>-0.911689</td>\n",
              "      <td>1.066425</td>\n",
              "      <td>0.07</td>\n",
              "      <td>2</td>\n",
              "      <td>104</td>\n",
              "      <td>71</td>\n",
              "      <td>0.002732</td>\n",
              "      <td>0.678253</td>\n",
              "      <td>19</td>\n",
              "    </tr>\n",
              "    <tr>\n",
              "      <th>3</th>\n",
              "      <td>-0.814127</td>\n",
              "      <td>1.109278</td>\n",
              "      <td>4.40</td>\n",
              "      <td>4</td>\n",
              "      <td>16</td>\n",
              "      <td>71</td>\n",
              "      <td>0.002732</td>\n",
              "      <td>0.515049</td>\n",
              "      <td>19</td>\n",
              "    </tr>\n",
              "    <tr>\n",
              "      <th>4</th>\n",
              "      <td>-0.448754</td>\n",
              "      <td>-0.759941</td>\n",
              "      <td>0.20</td>\n",
              "      <td>2</td>\n",
              "      <td>-1</td>\n",
              "      <td>14</td>\n",
              "      <td>0.002732</td>\n",
              "      <td>-1.000000</td>\n",
              "      <td>17</td>\n",
              "    </tr>\n",
              "    <tr>\n",
              "      <th>...</th>\n",
              "      <td>...</td>\n",
              "      <td>...</td>\n",
              "      <td>...</td>\n",
              "      <td>...</td>\n",
              "      <td>...</td>\n",
              "      <td>...</td>\n",
              "      <td>...</td>\n",
              "      <td>...</td>\n",
              "      <td>...</td>\n",
              "    </tr>\n",
              "    <tr>\n",
              "      <th>285377</th>\n",
              "      <td>-0.861656</td>\n",
              "      <td>1.044990</td>\n",
              "      <td>0.25</td>\n",
              "      <td>4</td>\n",
              "      <td>88</td>\n",
              "      <td>55</td>\n",
              "      <td>0.994536</td>\n",
              "      <td>-1.000000</td>\n",
              "      <td>7</td>\n",
              "    </tr>\n",
              "    <tr>\n",
              "      <th>285378</th>\n",
              "      <td>1.033018</td>\n",
              "      <td>-1.013965</td>\n",
              "      <td>0.10</td>\n",
              "      <td>2</td>\n",
              "      <td>-1</td>\n",
              "      <td>0</td>\n",
              "      <td>0.994536</td>\n",
              "      <td>0.437050</td>\n",
              "      <td>6</td>\n",
              "    </tr>\n",
              "    <tr>\n",
              "      <th>285379</th>\n",
              "      <td>-0.728275</td>\n",
              "      <td>1.053206</td>\n",
              "      <td>0.01</td>\n",
              "      <td>2</td>\n",
              "      <td>84</td>\n",
              "      <td>53</td>\n",
              "      <td>0.994536</td>\n",
              "      <td>-1.000000</td>\n",
              "      <td>7</td>\n",
              "    </tr>\n",
              "    <tr>\n",
              "      <th>285380</th>\n",
              "      <td>-0.347138</td>\n",
              "      <td>-0.800242</td>\n",
              "      <td>0.30</td>\n",
              "      <td>2</td>\n",
              "      <td>-1</td>\n",
              "      <td>14</td>\n",
              "      <td>0.994536</td>\n",
              "      <td>-1.000000</td>\n",
              "      <td>2</td>\n",
              "    </tr>\n",
              "    <tr>\n",
              "      <th>285381</th>\n",
              "      <td>-0.510101</td>\n",
              "      <td>-0.802329</td>\n",
              "      <td>1.00</td>\n",
              "      <td>2</td>\n",
              "      <td>-1</td>\n",
              "      <td>14</td>\n",
              "      <td>0.997268</td>\n",
              "      <td>0.610428</td>\n",
              "      <td>2</td>\n",
              "    </tr>\n",
              "  </tbody>\n",
              "</table>\n",
              "<p>285382 rows × 9 columns</p>\n",
              "</div>"
            ],
            "text/plain": [
              "        LATITUDE  LONGITUDE  FIRE_SIZE  ...  DAY_OF_YR  SCALED_TIME  CLUSTER_ID\n",
              "id                                      ...                                    \n",
              "0       0.988290  -0.985736       0.10  ...   0.002732     0.055108           6\n",
              "1      -0.401536   0.925103       1.17  ...   0.002732     0.472658           0\n",
              "2      -0.911689   1.066425       0.07  ...   0.002732     0.678253          19\n",
              "3      -0.814127   1.109278       4.40  ...   0.002732     0.515049          19\n",
              "4      -0.448754  -0.759941       0.20  ...   0.002732    -1.000000          17\n",
              "...          ...        ...        ...  ...        ...          ...         ...\n",
              "285377 -0.861656   1.044990       0.25  ...   0.994536    -1.000000           7\n",
              "285378  1.033018  -1.013965       0.10  ...   0.994536     0.437050           6\n",
              "285379 -0.728275   1.053206       0.01  ...   0.994536    -1.000000           7\n",
              "285380 -0.347138  -0.800242       0.30  ...   0.994536    -1.000000           2\n",
              "285381 -0.510101  -0.802329       1.00  ...   0.997268     0.610428           2\n",
              "\n",
              "[285382 rows x 9 columns]"
            ]
          },
          "metadata": {
            "tags": []
          },
          "execution_count": 9
        }
      ]
    },
    {
      "cell_type": "markdown",
      "metadata": {
        "id": "6vln0TRfdIsx"
      },
      "source": [
        "Another point to consider is that some of our variables may be *correlated*. There is nothing inherently evil about correlation between predictive features, but there are two downsides. Unless they are explicitly desired by the user, correlation between features can sometimes imapct model performance (correlations mean the model has a harder time telling the \"true\" contribution of each feature *separately* to the result, since the changes in one feature that affect the result are also matched by correlated changes in other features). Furthermore, the more correlated features are, the less data one of the features relatively provides to the model (its impact on the result is already captured by other features), and therefore it may be more advantageous to sacrifice a small amount of relative informaiton in favor of a decreased dimension size. Therefore, unless explicitly desired, we can also take a look at the correlation between features and choose (or not choose) to drop any highly-correlated (absolute value greater than 2/3) features, by visualizing a Pearson correlation matrix between all our now-numerical features:"
      ]
    },
    {
      "cell_type": "code",
      "metadata": {
        "colab": {
          "base_uri": "https://localhost:8080/",
          "height": 671
        },
        "id": "EwYd_cRmdJYt",
        "outputId": "0b8d0538-665b-4b5c-ca0d-d17bf720ce3c"
      },
      "source": [
        "#Correlation matrix:\r\n",
        "import seaborn as sns\r\n",
        "cors = input_data.drop(columns = \"LABEL\").corr()\r\n",
        "f,ax = plt.subplots(figsize=(10, 10))\r\n",
        "sns.heatmap(cors, annot=True, linewidths=.5, fmt= '.1f',ax=ax)"
      ],
      "execution_count": 10,
      "outputs": [
        {
          "output_type": "execute_result",
          "data": {
            "text/plain": [
              "<matplotlib.axes._subplots.AxesSubplot at 0x7f693ca4c0b8>"
            ]
          },
          "metadata": {
            "tags": []
          },
          "execution_count": 10
        },
        {
          "output_type": "display_data",
          "data": {
            "image/png": "[encoded data removed]",
            "text/plain": [
              "<Figure size 720x720 with 2 Axes>"
            ]
          },
          "metadata": {
            "tags": [],
            "needs_background": "light"
          }
        }
      ]
    },
    {
      "cell_type": "markdown",
      "metadata": {
        "id": "E9dJUMHFl9Ah"
      },
      "source": [
        "The results show us that Latitude and longitude are relatively highly correlated (but that's okay, we want these features anyway, and want to investigate whether there are more subtle trends between smaller values of the latitude and longitude, beyond the macroscopic correlation. This is also to be expected, because the data are either from California or Georgia, which will create artificial correlation between the data we have to work with, since George is more south-west than California), but we also see that `FIPCOD_CAT` (our categorized FIP codes) is highly correlated to longiditude and latitude. In this case, since we care more about longitude, we choose to drop `FIPCOD_CAT` from the model in favor of downsizing the input dimensions. This leaves behind no highly-correlated variables that we do not explicitly desire."
      ]
    },
    {
      "cell_type": "code",
      "metadata": {
        "id": "_6CY-ZmZnDa5"
      },
      "source": [
        "input_data = input_data.drop(columns = 'FIPCOD_CAT')\r\n",
        "test_data = test_data.drop(columns = 'FIPCOD_CAT')"
      ],
      "execution_count": 12,
      "outputs": []
    },
    {
      "cell_type": "markdown",
      "metadata": {
        "id": "hHA3mbpoqEb5"
      },
      "source": [
        "With our ETL complete, it is now time for:\r\n",
        "\r\n",
        "#*SET-UP FOR MODEL TRAINING*\r\n",
        "\r\n",
        "We do not want to overfit our data, and we do not want to just assume with no evidence that our training will go well, so we choose to use standard five-fold cross-validation for training and evaluating our model. We can thus use `sklearn`'s `KFold` module to accomplish this task:"
      ]
    },
    {
      "cell_type": "code",
      "metadata": {
        "id": "2q7fpPpgqEGx"
      },
      "source": [
        "from sklearn.model_selection import KFold\r\n",
        "\r\n",
        "#Use standard 5-fold cross-validation\r\n",
        "nsplits = 5\r\n",
        "kf = KFold(n_splits = nsplits, shuffle = True)\r\n",
        "\r\n",
        "output = input_data['LABEL']\r\n",
        "input = input_data.drop(columns = 'LABEL')"
      ],
      "execution_count": 14,
      "outputs": []
    },
    {
      "cell_type": "markdown",
      "metadata": {
        "id": "JDKaQ_1Lq10A"
      },
      "source": [
        "#*TRAIN/EVALUATE A CHOSEN MODEL TYPE*\r\n",
        "\r\n",
        "The data and setup are now primed for model training, which we can encode into a loop for running and evaluating over each of the folds.\r\n",
        "\r\n",
        "Our group chose to work with Decision-Tree based ensemble methods, which involved Random Forests and Extreme Gradient Boosted trees, as we figured they would perform well given our choice to use categorical data in addition to our numerical data in the input. To evaluate the model performance, we choose to use the same AUC score from the competition, in the hopes that increasing the AUC score on the validation sets will also indicate a high AUC on the testing data. We also tried to use simpler (low-tree) models, to prevent overfitting of the testing data, and sample the training data instead of using the entire data set at once (both again to avoid overfitting, and also to speed up the training process).\r\n",
        "\r\n",
        "After a few iterations of tests, our group also chose to a run a (much lengthier) hyper-parameter optimization for these models in order to inform model choice, which would be a prohibitively long code to insert here. Instead, we present the training of our two submitted models with optimal hyperparameters below, that will be our submitted models for the competition, and will leave hyperparameter discussion to the report."
      ]
    },
    {
      "cell_type": "code",
      "metadata": {
        "id": "yOymsacxq3tU",
        "colab": {
          "base_uri": "https://localhost:8080/"
        },
        "outputId": "84b491fc-124e-4058-ed56-eb07a056f90d"
      },
      "source": [
        "from sklearn.metrics import roc_auc_score as evalmetric\r\n",
        "from sklearn.ensemble import RandomForestClassifier\r\n",
        "\r\n",
        "\r\n",
        "'''MAKE SURE THE TOP GRADIENT-BOOSTING MODEL CODE IS PUT HERE TOO, AND SET THE\r\n",
        "PARAMS TO THE VALUES WE USE ON OUR SUBMISSIONS'''\r\n",
        "\r\n",
        "results = np.zeros(nsplits)\r\n",
        "idx = 0\r\n",
        "\r\n",
        "for train_index, test_index in kf.split(input_data):\r\n",
        "     print(\"ON SET: \", idx+1)\r\n",
        "     X_train, X_test = input.iloc[train_index], input.iloc[test_index]\r\n",
        "     y_train, y_test = output.iloc[train_index], output.iloc[test_index]\r\n",
        "     \r\n",
        "     #METHOD 1: Random Forest Classifier\r\n",
        "     clf = RandomForestClassifier(n_estimators=50, max_depth = 10,\r\n",
        "                                  criterion='gini', max_samples = 50000)\r\n",
        "     clf.fit(X_train, y_train)\r\n",
        "\r\n",
        "     #METHOD 2: Extreme Gradient Boosted Trees\r\n",
        "     '''INSERT XGDBOOST CODE'''\r\n",
        "     #clf = GradientBoostingClassifier(n_estimators=200, learning_rate=0.5,\r\n",
        "     #    max_depth=3)\r\n",
        "     #clf.fit(X_train, y_train)\r\n",
        "     #predictedlabels = clf.predict(X_test)\r\n",
        "\r\n",
        "     #Calculate the evaluation metric for both models\r\n",
        "     #Forest Metric     \r\n",
        "     testlabels = y_test.to_numpy()\r\n",
        "     metric = evalmetric(testlabels, clf.predict_proba(X_test), multi_class = \"ovr\")\r\n",
        "     results[idx] = metric\r\n",
        "     print(\"Forest Score: \", metric)\r\n",
        "\r\n",
        "     #XGD Metric\r\n",
        "     '''PUT SOMETHING'''\r\n",
        "\r\n",
        "     idx = idx + 1\r\n",
        "\r\n"
      ],
      "execution_count": 16,
      "outputs": [
        {
          "output_type": "stream",
          "text": [
            "ON SET:  1\n",
            "Forest Score:  0.800626632993047\n",
            "ON SET:  2\n",
            "Forest Score:  0.8011592208525519\n",
            "ON SET:  3\n",
            "Forest Score:  0.8025777343532754\n",
            "ON SET:  4\n",
            "Forest Score:  0.800662367137774\n",
            "ON SET:  5\n",
            "Forest Score:  0.8011058649124263\n"
          ],
          "name": "stdout"
        }
      ]
    },
    {
      "cell_type": "markdown",
      "metadata": {
        "id": "ie1MmE09pt-E"
      },
      "source": [
        "With the training of the models complete, we can look to:"
      ]
    },
    {
      "cell_type": "markdown",
      "metadata": {
        "id": "3-CjMGaR4aQN"
      },
      "source": [
        "#*SUMMARY OF TRAINING*\r\n",
        "\r\n",
        "The below box will show the average evaluation metric from the models with these hyperparameters on the data:"
      ]
    },
    {
      "cell_type": "code",
      "metadata": {
        "colab": {
          "base_uri": "https://localhost:8080/"
        },
        "id": "qb7bUk444dt5",
        "outputId": "b4528b5f-bbd7-45b1-c51f-97f583fe82b6"
      },
      "source": [
        "print(results)\r\n",
        "print(\"Average success across kfolds: \", np.average(results))\r\n",
        "print(\"On entire training dataset: \", evalmetric(input_data['LABEL'].values, clf.predict_proba(input), multi_class = \"ovr\"))"
      ],
      "execution_count": 17,
      "outputs": [
        {
          "output_type": "stream",
          "text": [
            "[0.80062663 0.80115922 0.80257773 0.80066237 0.80110586]\n",
            "Average success across kfolds:  0.801226364049815\n",
            "On entire training dataset:  0.8098922294127465\n"
          ],
          "name": "stdout"
        }
      ]
    },
    {
      "cell_type": "markdown",
      "metadata": {
        "id": "n0SC1wL-p8sm"
      },
      "source": [
        "We see these values are both high enough to suggest a successful model, but not so high as to suggest overfitting, and so we are satisfied with our choices. With the model setup complete, it remains to generate its predicted labels on the test data and export them as a .csv:"
      ]
    },
    {
      "cell_type": "markdown",
      "metadata": {
        "id": "HixxwJ3U4toI"
      },
      "source": [
        "#*GENERATE TESTING FILE*\r\n",
        "\r\n"
      ]
    },
    {
      "cell_type": "code",
      "metadata": {
        "id": "w5Fmm0Qs4w2S",
        "colab": {
          "base_uri": "https://localhost:8080/"
        },
        "outputId": "abcc9977-e82c-4627-c856-0663f9359c32"
      },
      "source": [
        "#Generate the output file:\r\n",
        "probs = clf.predict_proba(test_data)\r\n",
        "print(probs)\r\n",
        "\r\n",
        "#WRITE TO CSV\r\n",
        "datoutput = pd.DataFrame(probs, columns = [\"P1\", \"P2\", \"P3\", \"P4\"])\r\n",
        "datoutput['id'] = test_data.index\r\n",
        "datoutput = datoutput.set_index('id')\r\n",
        "datoutput.to_csv(\"test_predictions.csv\")"
      ],
      "execution_count": 96,
      "outputs": [
        {
          "output_type": "stream",
          "text": [
            "[[2.00000000e-02 3.86666667e-01 2.15000000e-01 3.78333333e-01]\n",
            " [8.00000000e-02 2.58181818e-01 2.45454545e-01 4.16363636e-01]\n",
            " [7.50000000e-02 3.95000000e-01 2.75000000e-01 2.55000000e-01]\n",
            " ...\n",
            " [1.05000000e-01 3.25000000e-01 1.10000000e-01 4.60000000e-01]\n",
            " [2.17391304e-04 4.71595031e-01 1.68536506e-01 3.59651072e-01]\n",
            " [9.50000000e-02 3.57204545e-01 1.57318182e-01 3.90477273e-01]]\n"
          ],
          "name": "stdout"
        }
      ]
    }
  ]
}